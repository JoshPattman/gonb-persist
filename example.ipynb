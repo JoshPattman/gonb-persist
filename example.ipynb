{
 "cells": [
  {
   "cell_type": "code",
   "execution_count": 1,
   "metadata": {},
   "outputs": [],
   "source": [
    "import P \"github.com/JoshPattman/gonb-persist\"\n",
    "import \"math/rand\""
   ]
  },
  {
   "cell_type": "code",
   "execution_count": 2,
   "metadata": {},
   "outputs": [],
   "source": [
    "// This weird syntax makes the init function run once every time a cell is run\n",
    "var _ = P.Init()\n",
    "%%\n",
    "// When this cell is run, we clean the cache directory. We only want to do this once per notebook, not once per cell\n",
    "P.Clean()"
   ]
  },
  {
   "cell_type": "code",
   "execution_count": 3,
   "metadata": {},
   "outputs": [],
   "source": [
    "// Create a variable named myNumber.\n",
    "// The actual variable is wrapped in a struct which also remebers the variable name\n",
    "var myNumber = P.Load[int](\"myNumber\")"
   ]
  },
  {
   "cell_type": "code",
   "execution_count": 4,
   "metadata": {},
   "outputs": [
    {
     "name": "stdout",
     "output_type": "stream",
     "text": [
      "0\n",
      "77\n"
     ]
    }
   ],
   "source": [
    "%%\n",
    "// The variable is not yet initialized, so it takes its default value\n",
    "fmt.Println(myNumber.V)\n",
    "// Lets now set it to a random number\n",
    "myNumber.V = rand.Intn(100)\n",
    "// We have to remember to save our variable so other cells can acsess it\n",
    "myNumber.Save()\n",
    "// And now lets print our number\n",
    "fmt.Println(myNumber.V)"
   ]
  },
  {
   "cell_type": "code",
   "execution_count": 5,
   "metadata": {},
   "outputs": [
    {
     "name": "stdout",
     "output_type": "stream",
     "text": [
      "77\n",
      "41\n"
     ]
    }
   ],
   "source": [
    "%%\n",
    "// I personally prefer this way of saving the variable: using a defer.\n",
    "// This means that once the cell has finished, the variable is always saved\n",
    "defer myNumber.Save()\n",
    "// Lets check we can remeber the number from last time\n",
    "fmt.Println(myNumber.V)\n",
    "// And lets pick a new number and print it\n",
    "myNumber.V = rand.Intn(100)\n",
    "fmt.Println(myNumber.V)"
   ]
  },
  {
   "cell_type": "code",
   "execution_count": 6,
   "metadata": {},
   "outputs": [
    {
     "name": "stdout",
     "output_type": "stream",
     "text": [
      "41\n"
     ]
    }
   ],
   "source": [
    "%%\n",
    "// Finally, lets see if the variable has been saved again\n",
    "fmt.Println(myNumber.V)"
   ]
  }
 ],
 "metadata": {
  "kernelspec": {
   "display_name": "Go (gonb)",
   "language": "go",
   "name": "gonb"
  },
  "language_info": {
   "codemirror_mode": "",
   "file_extension": ".go",
   "mimetype": "",
   "name": "go",
   "nbconvert_exporter": "",
   "pygments_lexer": "",
   "version": "go1.20.2"
  },
  "orig_nbformat": 4
 },
 "nbformat": 4,
 "nbformat_minor": 2
}
