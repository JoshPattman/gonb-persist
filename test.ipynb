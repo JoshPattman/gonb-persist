{
 "cells": [
  {
   "cell_type": "code",
   "execution_count": 1,
   "metadata": {},
   "outputs": [],
   "source": [
    "import P \"github.com/JoshPattman/persist\"\n",
    "import \"math/rand\""
   ]
  },
  {
   "cell_type": "code",
   "execution_count": 2,
   "metadata": {},
   "outputs": [
    {
     "data": {
      "text/html": [
       "\n",
       "<style>\n",
       ".gonb-error-location {\n",
       "\tbackground: var(--jp-error-color2);  \n",
       "\tborder-radius: 3px;\n",
       "\tborder-style: dotted;\n",
       "\tborder-width: 1px;\n",
       "\tborder-color: var(--jp-border-color2);\n",
       "}\n",
       ".gonb-error-location:hover {\n",
       "\tborder-width: 2px;\n",
       "\tborder-style: solid;\n",
       "\tborder-color: var(--jp-border-color2);\n",
       "}\n",
       ".gonb-error-context {\n",
       "\tdisplay: none;\n",
       "}\n",
       ".gonb-error-location:hover + .gonb-error-context {\n",
       "\tbackground: var(--jp-dialog-background);  \n",
       "\tborder-radius: 3px;\n",
       "\tborder-style: solid;\n",
       "\tborder-width: 1px;\n",
       "\tborder-color: var(--jp-border-color2);\n",
       "\tdisplay: block;\n",
       "\twhite-space: pre;\n",
       "\tfont-family: monospace;\n",
       "}\n",
       ".gonb-error-line {\n",
       "\tborder-radius: 3px;\n",
       "\tborder-style: dotted;\n",
       "\tborder-width: 1px;\t\n",
       "\tborder-color: var(--jp-border-color2);\n",
       "\tbackground-color: var(--jp-rendermime-error-background);\n",
       "\tfont-weight: bold;\n",
       "}\n",
       ".gonb-cell-line-info {\n",
       "\tbackground: var(--jp-layout-color2);\n",
       "\tcolor: #999;\n",
       "\tmargin: 0.1em;\n",
       "\tborder: 1px solid var(--jp-border-color1);\n",
       "\tpadding-left: 0.2em;\n",
       "\tpadding-right: 0.2em;\n",
       "}\n",
       "</style>\n",
       "<div class=\"lm-Widget p-Widget lm-Panel p-Panel jp-OutputArea-child\">\n",
       "<div class=\"lm-Widget p-Widget jp-RenderedText jp-mod-trusted jp-OutputArea-output\" data-mime-type=\"application/vnd.jupyter.stderr\" style=\"font-family: monospace;\">\n",
       "\n",
       "\n",
       "<span style=\"white-space: pre;\"> failed to run \"/home/joshpattman/go/bin/go get\": exit status 1</span>\n",
       "\n",
       "<br/>\n",
       "\n",
       "\n",
       "<span style=\"white-space: pre;\"> </span>\n",
       "\n",
       "<br/>\n",
       "\n",
       "\n",
       "<span style=\"white-space: pre;\"> gonb_21fa150c imports</span>\n",
       "\n",
       "<br/>\n",
       "\n",
       "\n",
       "<span style=\"white-space: pre;\"> \tgithub.com/JoshPattman/persist: cannot find module providing package github.com/JoshPattman/persist</span>\n",
       "\n",
       "<br/>\n",
       "\n",
       "\n",
       "<span style=\"white-space: pre;\"> </span>\n",
       "\n",
       "<br/>\n",
       "\n",
       "</div>\n"
      ]
     },
     "metadata": {},
     "output_type": "display_data"
    },
    {
     "ename": "ERROR",
     "evalue": "goimports failed: failed to run \"/home/joshpattman/go/bin/go get\": exit status 1",
     "output_type": "error",
     "traceback": [
      "goimports failed: failed to run \"/home/joshpattman/go/bin/go get\": exit status 1"
     ]
    }
   ],
   "source": [
    "// This weird syntax makes the init function run once every time a cell is run\n",
    "var _ = P.Init()\n",
    "%%\n",
    "// When this cell is run, we clean the cache directory. We only want to do this once per notebook, not once per cell\n",
    "P.Clean()"
   ]
  },
  {
   "cell_type": "code",
   "execution_count": 4,
   "metadata": {},
   "outputs": [],
   "source": [
    "// Create a variable named myNumber.\n",
    "// The actual variable is wrapped in a struct which also remebers the variable name\n",
    "var myNumber = P.Load[int](\"myNumber\")"
   ]
  },
  {
   "cell_type": "code",
   "execution_count": 5,
   "metadata": {},
   "outputs": [],
   "source": [
    "%%\n",
    "// The variable is not yet initialized, so it takes its default value\n",
    "fmt.Println(myNumber.V)\n",
    "// Lets now set it to a random number\n",
    "myNumber.V = rand.Intn(100)\n",
    "// We have to remember to save our variable so other cells can acsess it\n",
    "myNumber.Save()\n",
    "// And now lets print our number\n",
    "fmt.Println(myNumber.V)"
   ]
  },
  {
   "cell_type": "code",
   "execution_count": 6,
   "metadata": {},
   "outputs": [
    {
     "name": "stdout",
     "output_type": "stream",
     "text": [
      "1000000\n"
     ]
    }
   ],
   "source": [
    "%%\n",
    "// I personally prefer this way of saving the variable: using a defer.\n",
    "// This means that once the cell has finished, the variable is always saved\n",
    "defer myNumber.Save()\n",
    "// Lets check we can remeber the number from last time\n",
    "fmt.Println(myNumber.V)\n",
    "// And lets pick a new number and print it\n",
    "myNumber.V = rand.Intn(100)\n",
    "fmt.Println(myNumber.V)"
   ]
  },
  {
   "cell_type": "code",
   "execution_count": null,
   "metadata": {},
   "outputs": [],
   "source": [
    "// Finally, lets see if the variable has been saved again\n",
    "fmt.Println(myNumber.V)"
   ]
  }
 ],
 "metadata": {
  "kernelspec": {
   "display_name": "Go (gonb)",
   "language": "go",
   "name": "gonb"
  },
  "language_info": {
   "codemirror_mode": "",
   "file_extension": ".go",
   "mimetype": "",
   "name": "go",
   "nbconvert_exporter": "",
   "pygments_lexer": "",
   "version": "go1.20.2"
  },
  "orig_nbformat": 4
 },
 "nbformat": 4,
 "nbformat_minor": 2
}
